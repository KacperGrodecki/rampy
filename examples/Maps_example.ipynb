{
 "cells": [
  {
   "cell_type": "code",
   "execution_count": 1,
   "metadata": {},
   "outputs": [],
   "source": [
    "import pandas as pd\n",
    "import numpy as np\n",
    "import rampy\n",
    "from rampy import maps\n",
    "from rampy import peak_shapes\n",
    "from scipy.optimize import curve_fit\n",
    "import matplotlib.pyplot as plt\n",
    "\n",
    "\n",
    "file='4338-NDC1-(31)_4X4.txt'\n",
    "\n",
    "#file reading\n",
    "\n",
    "X, Y, lambdas_one,intensities=maps.read_renishaw(file)"
   ]
  },
  {
   "cell_type": "code",
   "execution_count": 2,
   "metadata": {},
   "outputs": [
    {
     "data": {
      "application/vnd.jupyter.widget-view+json": {
       "model_id": "0cca5edadce342ddba931d3af217cbb0",
       "version_major": 2,
       "version_minor": 0
      },
      "text/plain": [
       "Canvas(toolbar=Toolbar(toolitems=[('Home', 'Reset original view', 'home', 'home'), ('Back', 'Back to previous …"
      ]
     },
     "metadata": {},
     "output_type": "display_data"
    }
   ],
   "source": [
    "#one have to manualy estimate optimal fitting params:\n",
    "#fitting range(here 0-200). Important is the vector range, not wavelength range\n",
    "# aplitude, Xmean, sigma and background y0 and A(slope)\n",
    "%matplotlib widget\n",
    "fun=peak_shapes.create_gauss() \n",
    "amp,Xmean,sigma,y0,A=2000,2750,30,6000,0.1\n",
    "plt.plot(intensities[:,1])\n",
    "plt.plot(fun(lambdas_one,amp,Xmean,sigma,y0,A))\n",
    "plt.xlabel('Total Bill')\n",
    "plt.ylabel('Tip')\n",
    "plt.show()"
   ]
  },
  {
   "cell_type": "code",
   "execution_count": 3,
   "metadata": {
    "scrolled": false
   },
   "outputs": [],
   "source": [
    "results,Rmap=maps.peak(X, Y, lambdas_one,intensities,'lorenz',[0,200],amp,Xmean,sigma,y0,A)"
   ]
  },
  {
   "cell_type": "code",
   "execution_count": 4,
   "metadata": {},
   "outputs": [
    {
     "data": {
      "text/plain": [
       "<matplotlib.colorbar.Colorbar at 0xc5fbe48>"
      ]
     },
     "execution_count": 4,
     "metadata": {},
     "output_type": "execute_result"
    },
    {
     "data": {
      "image/png": "[encoded data removed]",
      "text/plain": [
       "<Figure size 432x288 with 2 Axes>"
      ]
     },
     "metadata": {
      "needs_background": "light"
     },
     "output_type": "display_data"
    }
   ],
   "source": [
    "#while having maps in Rmap we can draw them\n",
    "%matplotlib inline\n",
    "\n",
    "heatmap = plt.pcolor(Rmap[:,:,2])\n",
    "plt.colorbar(heatmap)"
   ]
  }
 ],
 "metadata": {
  "kernelspec": {
   "display_name": "Python 3",
   "language": "python",
   "name": "python3"
  },
  "language_info": {
   "codemirror_mode": {
    "name": "ipython",
    "version": 3
   },
   "file_extension": ".py",
   "mimetype": "text/x-python",
   "name": "python",
   "nbconvert_exporter": "python",
   "pygments_lexer": "ipython3",
   "version": "3.7.3"
  }
 },
 "nbformat": 4,
 "nbformat_minor": 2
}
